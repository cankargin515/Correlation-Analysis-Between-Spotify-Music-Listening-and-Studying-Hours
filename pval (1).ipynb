{
 "cells": [
  {
   "cell_type": "code",
   "execution_count": 1,
   "id": "f39e2d8e-6889-4ba3-8efd-dd290561fa14",
   "metadata": {},
   "outputs": [
    {
     "name": "stdout",
     "output_type": "stream",
     "text": [
      "Requirement already satisfied: pandas in c:\\users\\dell\\appdata\\local\\programs\\python\\python313\\lib\\site-packages (2.2.3)\n",
      "Requirement already satisfied: numpy>=1.26.0 in c:\\users\\dell\\appdata\\local\\programs\\python\\python313\\lib\\site-packages (from pandas) (2.2.1)\n",
      "Requirement already satisfied: python-dateutil>=2.8.2 in c:\\users\\dell\\appdata\\roaming\\python\\python313\\site-packages (from pandas) (2.9.0.post0)\n",
      "Requirement already satisfied: pytz>=2020.1 in c:\\users\\dell\\appdata\\local\\programs\\python\\python313\\lib\\site-packages (from pandas) (2024.2)\n",
      "Requirement already satisfied: tzdata>=2022.7 in c:\\users\\dell\\appdata\\local\\programs\\python\\python313\\lib\\site-packages (from pandas) (2024.2)\n",
      "Requirement already satisfied: six>=1.5 in c:\\users\\dell\\appdata\\roaming\\python\\python313\\site-packages (from python-dateutil>=2.8.2->pandas) (1.17.0)\n"
     ]
    }
   ],
   "source": [
    "!pip install pandas"
   ]
  },
  {
   "cell_type": "code",
   "execution_count": 2,
   "id": "1ee0e111-4e7d-4966-8e88-ba01402fa9ea",
   "metadata": {},
   "outputs": [
    {
     "name": "stdout",
     "output_type": "stream",
     "text": [
      "Requirement already satisfied: scipy in c:\\users\\dell\\appdata\\local\\programs\\python\\python313\\lib\\site-packages (1.14.1)\n",
      "Requirement already satisfied: numpy<2.3,>=1.23.5 in c:\\users\\dell\\appdata\\local\\programs\\python\\python313\\lib\\site-packages (from scipy) (2.2.1)\n"
     ]
    }
   ],
   "source": [
    "!pip install scipy"
   ]
  },
  {
   "cell_type": "code",
   "execution_count": 3,
   "id": "58fd5d1b-ebf3-41d5-916a-7e765beec311",
   "metadata": {},
   "outputs": [
    {
     "data": {
      "text/plain": [
       "{'DailyTemp': {'Correlation': np.float64(-0.02216675702351406),\n",
       "  'P-Value': np.float64(0.7722140273597353)},\n",
       " 'DailyWindSpeed': {'Correlation': np.float64(-0.07531751046965784),\n",
       "  'P-Value': np.float64(0.3246903325381117)}}"
      ]
     },
     "execution_count": 3,
     "metadata": {},
     "output_type": "execute_result"
    }
   ],
   "source": [
    "import pandas as pd\n",
    "from scipy.stats import pearsonr, ttest_ind\n",
    "\n",
    "# Load the datasets\n",
    "step_data = pd.read_csv('stepcountck.csv')  # Step count data\n",
    "weather_data = pd.read_csv('sabanciwdata_converted.csv')  # Weather data\n",
    "\n",
    "# Convert timestamps to datetime format\n",
    "step_data['startDate'] = pd.to_datetime(step_data['startDate'])\n",
    "weather_data['Time'] = pd.to_datetime(weather_data['Time'])\n",
    "\n",
    "# Extract the date for daily aggregation\n",
    "step_data['Date'] = step_data['startDate'].dt.date\n",
    "weather_data['Date'] = weather_data['Time'].dt.date\n",
    "\n",
    "# Aggregate step counts to daily totals\n",
    "daily_steps = step_data.groupby('Date').agg(DailyStepCount=('value', 'sum')).reset_index()\n",
    "\n",
    "# Aggregate weather data to daily averages\n",
    "daily_weather = weather_data.groupby('Date').agg(\n",
    "    DailyTemp=('Temp', 'mean'),\n",
    "    DailyWindSpeed=('Wspd', 'mean')\n",
    ").reset_index()\n",
    "\n",
    "# Merge the datasets on 'Date'\n",
    "merged_data = pd.merge(daily_steps, daily_weather, on='Date', how='inner')\n",
    "\n",
    "# Calculate correlations and p-values\n",
    "cor_temp, p_value_temp = pearsonr(merged_data['DailyTemp'], merged_data['DailyStepCount'])\n",
    "cor_wind, p_value_wind = pearsonr(merged_data['DailyWindSpeed'], merged_data['DailyStepCount'])\n",
    "\n",
    "# Results\n",
    "correlations = {\n",
    "    'DailyTemp': {'Correlation': cor_temp, 'P-Value': p_value_temp},\n",
    "    'DailyWindSpeed': {'Correlation': cor_wind, 'P-Value': p_value_wind}\n",
    "}\n",
    "correlations"
   ]
  },
  {
   "cell_type": "code",
   "execution_count": null,
   "id": "62dfc212-ee38-4ef7-ab65-cdd893ae452d",
   "metadata": {},
   "outputs": [],
   "source": []
  }
 ],
 "metadata": {
  "kernelspec": {
   "display_name": "Python 3 (ipykernel)",
   "language": "python",
   "name": "python3"
  },
  "language_info": {
   "codemirror_mode": {
    "name": "ipython",
    "version": 3
   },
   "file_extension": ".py",
   "mimetype": "text/x-python",
   "name": "python",
   "nbconvert_exporter": "python",
   "pygments_lexer": "ipython3",
   "version": "3.13.1"
  }
 },
 "nbformat": 4,
 "nbformat_minor": 5
}
